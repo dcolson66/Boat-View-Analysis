{
 "cells": [
  {
   "cell_type": "markdown",
   "metadata": {},
   "source": [
    "## 6.5 Machine Learning Part 2"
   ]
  },
  {
   "cell_type": "markdown",
   "metadata": {},
   "source": [
    "### This script contains the following:\n",
    "\n",
    "#### 1. Importing libraries and data and renaming columns\n",
    "#### 2. The elbow technique\n",
    "#### 3. k-means clustering"
   ]
  },
  {
   "cell_type": "markdown",
   "metadata": {},
   "source": [
    "### 1. Importing libraries and data and renaming columns"
   ]
  },
  {
   "cell_type": "code",
   "execution_count": 1,
   "metadata": {},
   "outputs": [],
   "source": [
    "import pandas as pd\n",
    "import numpy as np\n",
    "import seaborn as sns\n",
    "import matplotlib\n",
    "import matplotlib.pyplot as plt\n",
    "import os\n",
    "import sklearn\n",
    "from sklearn.cluster import KMeans # Here is where you import the k-means algorithm from scikit-learn.\n",
    "import pylab as pl # PyLab is a convenience module that bulk imports matplotlib.\n",
    "from sklearn.preprocessing import StandardScaler"
   ]
  },
  {
   "cell_type": "code",
   "execution_count": 2,
   "metadata": {},
   "outputs": [],
   "source": [
    "# This option ensures the graphs you create are displayed in your notebook without the need to \"call\" them specifically.\n",
    "\n",
    "%matplotlib inline"
   ]
  },
  {
   "cell_type": "code",
   "execution_count": 3,
   "metadata": {},
   "outputs": [],
   "source": [
    "# Defining path\n",
    "path=r'C:\\Users\\dolson\\OneDrive - BEACON TECHNOLOGIES\\Desktop\\Achievement6'"
   ]
  },
  {
   "cell_type": "code",
   "execution_count": 5,
   "metadata": {},
   "outputs": [],
   "source": [
    "# Import boat data\n",
    "df = pd.read_csv(os.path.join(path, '02 Data', 'Prepared Data', 'boatclean6.2.csv'))"
   ]
  },
  {
   "cell_type": "code",
   "execution_count": 6,
   "metadata": {},
   "outputs": [
    {
     "data": {
      "text/plain": [
       "(9241, 13)"
      ]
     },
     "execution_count": 6,
     "metadata": {},
     "output_type": "execute_result"
    }
   ],
   "source": [
    "df.shape"
   ]
  },
  {
   "cell_type": "code",
   "execution_count": 7,
   "metadata": {},
   "outputs": [
    {
     "data": {
      "text/html": [
       "<div>\n",
       "<style scoped>\n",
       "    .dataframe tbody tr th:only-of-type {\n",
       "        vertical-align: middle;\n",
       "    }\n",
       "\n",
       "    .dataframe tbody tr th {\n",
       "        vertical-align: top;\n",
       "    }\n",
       "\n",
       "    .dataframe thead th {\n",
       "        text-align: right;\n",
       "    }\n",
       "</style>\n",
       "<table border=\"1\" class=\"dataframe\">\n",
       "  <thead>\n",
       "    <tr style=\"text-align: right;\">\n",
       "      <th></th>\n",
       "      <th>Unnamed: 0</th>\n",
       "      <th>Boat Type</th>\n",
       "      <th>Manufacturer</th>\n",
       "      <th>Type</th>\n",
       "      <th>Year Built</th>\n",
       "      <th>Length</th>\n",
       "      <th>Width</th>\n",
       "      <th>Material</th>\n",
       "      <th>Views last 7 days</th>\n",
       "      <th>EUR_Price</th>\n",
       "      <th>Country</th>\n",
       "      <th>City</th>\n",
       "      <th>PriceCategory</th>\n",
       "    </tr>\n",
       "  </thead>\n",
       "  <tbody>\n",
       "    <tr>\n",
       "      <th>0</th>\n",
       "      <td>0</td>\n",
       "      <td>Motor Yacht</td>\n",
       "      <td>Rigiflex power boats</td>\n",
       "      <td>new boat from stock</td>\n",
       "      <td>2017</td>\n",
       "      <td>4.00</td>\n",
       "      <td>1.90</td>\n",
       "      <td>Unknown</td>\n",
       "      <td>226</td>\n",
       "      <td>3337</td>\n",
       "      <td>Switzerland</td>\n",
       "      <td>Lake Geneva</td>\n",
       "      <td>Low-priced</td>\n",
       "    </tr>\n",
       "    <tr>\n",
       "      <th>1</th>\n",
       "      <td>1</td>\n",
       "      <td>Center console boat</td>\n",
       "      <td>Terhi power boats</td>\n",
       "      <td>new boat from stock</td>\n",
       "      <td>2020</td>\n",
       "      <td>4.00</td>\n",
       "      <td>1.50</td>\n",
       "      <td>Thermoplastic</td>\n",
       "      <td>75</td>\n",
       "      <td>3490</td>\n",
       "      <td>Germany</td>\n",
       "      <td>Bnningstedt</td>\n",
       "      <td>Low-priced</td>\n",
       "    </tr>\n",
       "    <tr>\n",
       "      <th>2</th>\n",
       "      <td>3</td>\n",
       "      <td>Sport Boat</td>\n",
       "      <td>Pioner power boats</td>\n",
       "      <td>new boat from stock</td>\n",
       "      <td>2020</td>\n",
       "      <td>3.00</td>\n",
       "      <td>1.00</td>\n",
       "      <td>Unknown</td>\n",
       "      <td>64</td>\n",
       "      <td>29266</td>\n",
       "      <td>Denmark</td>\n",
       "      <td>Svendborg</td>\n",
       "      <td>Low-priced</td>\n",
       "    </tr>\n",
       "    <tr>\n",
       "      <th>3</th>\n",
       "      <td>4</td>\n",
       "      <td>Fishing Boat</td>\n",
       "      <td>Linder power boats</td>\n",
       "      <td>new boat from stock</td>\n",
       "      <td>2019</td>\n",
       "      <td>3.55</td>\n",
       "      <td>1.46</td>\n",
       "      <td>Aluminium</td>\n",
       "      <td>58</td>\n",
       "      <td>3399</td>\n",
       "      <td>Germany</td>\n",
       "      <td>Bayern</td>\n",
       "      <td>Low-priced</td>\n",
       "    </tr>\n",
       "    <tr>\n",
       "      <th>4</th>\n",
       "      <td>6</td>\n",
       "      <td>Catamaran</td>\n",
       "      <td>Unknown</td>\n",
       "      <td>Used boat,Unleaded</td>\n",
       "      <td>1999</td>\n",
       "      <td>6.20</td>\n",
       "      <td>2.38</td>\n",
       "      <td>Aluminium</td>\n",
       "      <td>474</td>\n",
       "      <td>3600</td>\n",
       "      <td>Switzerland</td>\n",
       "      <td>Neuenburgersee</td>\n",
       "      <td>Low-priced</td>\n",
       "    </tr>\n",
       "  </tbody>\n",
       "</table>\n",
       "</div>"
      ],
      "text/plain": [
       "   Unnamed: 0            Boat Type          Manufacturer                 Type  \\\n",
       "0           0          Motor Yacht  Rigiflex power boats  new boat from stock   \n",
       "1           1  Center console boat     Terhi power boats  new boat from stock   \n",
       "2           3           Sport Boat    Pioner power boats  new boat from stock   \n",
       "3           4         Fishing Boat    Linder power boats  new boat from stock   \n",
       "4           6            Catamaran               Unknown   Used boat,Unleaded   \n",
       "\n",
       "   Year Built  Length  Width       Material  Views last 7 days  EUR_Price  \\\n",
       "0        2017    4.00   1.90        Unknown                226       3337   \n",
       "1        2020    4.00   1.50  Thermoplastic                 75       3490   \n",
       "2        2020    3.00   1.00        Unknown                 64      29266   \n",
       "3        2019    3.55   1.46      Aluminium                 58       3399   \n",
       "4        1999    6.20   2.38      Aluminium                474       3600   \n",
       "\n",
       "        Country              City PriceCategory  \n",
       "0  Switzerland       Lake Geneva     Low-priced  \n",
       "1      Germany        Bnningstedt    Low-priced  \n",
       "2      Denmark          Svendborg    Low-priced  \n",
       "3      Germany            Bayern     Low-priced  \n",
       "4  Switzerland    Neuenburgersee     Low-priced  "
      ]
     },
     "execution_count": 7,
     "metadata": {},
     "output_type": "execute_result"
    }
   ],
   "source": [
    "df.head()"
   ]
  },
  {
   "cell_type": "markdown",
   "metadata": {},
   "source": [
    "#### Data Cleaning"
   ]
  },
  {
   "cell_type": "code",
   "execution_count": 8,
   "metadata": {},
   "outputs": [],
   "source": [
    "# Dropping the redundant columns\n",
    "df1 = df.drop(['Unnamed: 0'],axis = 1)"
   ]
  },
  {
   "cell_type": "code",
   "execution_count": 9,
   "metadata": {},
   "outputs": [],
   "source": [
    "# Remove categorial columns, keep numberical minus dates/years\n",
    "df = df1[['Length','Width','Views last 7 days','EUR_Price']]"
   ]
  },
  {
   "cell_type": "code",
   "execution_count": 10,
   "metadata": {},
   "outputs": [
    {
     "data": {
      "text/html": [
       "<div>\n",
       "<style scoped>\n",
       "    .dataframe tbody tr th:only-of-type {\n",
       "        vertical-align: middle;\n",
       "    }\n",
       "\n",
       "    .dataframe tbody tr th {\n",
       "        vertical-align: top;\n",
       "    }\n",
       "\n",
       "    .dataframe thead th {\n",
       "        text-align: right;\n",
       "    }\n",
       "</style>\n",
       "<table border=\"1\" class=\"dataframe\">\n",
       "  <thead>\n",
       "    <tr style=\"text-align: right;\">\n",
       "      <th></th>\n",
       "      <th>Length</th>\n",
       "      <th>Width</th>\n",
       "      <th>Views last 7 days</th>\n",
       "      <th>EUR_Price</th>\n",
       "    </tr>\n",
       "  </thead>\n",
       "  <tbody>\n",
       "    <tr>\n",
       "      <th>0</th>\n",
       "      <td>4.00</td>\n",
       "      <td>1.90</td>\n",
       "      <td>226</td>\n",
       "      <td>3337</td>\n",
       "    </tr>\n",
       "    <tr>\n",
       "      <th>1</th>\n",
       "      <td>4.00</td>\n",
       "      <td>1.50</td>\n",
       "      <td>75</td>\n",
       "      <td>3490</td>\n",
       "    </tr>\n",
       "    <tr>\n",
       "      <th>2</th>\n",
       "      <td>3.00</td>\n",
       "      <td>1.00</td>\n",
       "      <td>64</td>\n",
       "      <td>29266</td>\n",
       "    </tr>\n",
       "    <tr>\n",
       "      <th>3</th>\n",
       "      <td>3.55</td>\n",
       "      <td>1.46</td>\n",
       "      <td>58</td>\n",
       "      <td>3399</td>\n",
       "    </tr>\n",
       "    <tr>\n",
       "      <th>4</th>\n",
       "      <td>6.20</td>\n",
       "      <td>2.38</td>\n",
       "      <td>474</td>\n",
       "      <td>3600</td>\n",
       "    </tr>\n",
       "  </tbody>\n",
       "</table>\n",
       "</div>"
      ],
      "text/plain": [
       "   Length  Width  Views last 7 days  EUR_Price\n",
       "0    4.00   1.90                226       3337\n",
       "1    4.00   1.50                 75       3490\n",
       "2    3.00   1.00                 64      29266\n",
       "3    3.55   1.46                 58       3399\n",
       "4    6.20   2.38                474       3600"
      ]
     },
     "execution_count": 10,
     "metadata": {},
     "output_type": "execute_result"
    }
   ],
   "source": [
    "df.head()"
   ]
  },
  {
   "cell_type": "code",
   "execution_count": 11,
   "metadata": {},
   "outputs": [
    {
     "data": {
      "text/plain": [
       "(9241, 4)"
      ]
     },
     "execution_count": 11,
     "metadata": {},
     "output_type": "execute_result"
    }
   ],
   "source": [
    "df.shape"
   ]
  },
  {
   "cell_type": "markdown",
   "metadata": {},
   "source": [
    "### 2. Standardizing the data"
   ]
  },
  {
   "cell_type": "code",
   "execution_count": 12,
   "metadata": {},
   "outputs": [
    {
     "name": "stdout",
     "output_type": "stream",
     "text": [
      "[[-1.28684193 -1.36365653  0.48713069 -0.31101089]\n",
      " [-1.28684193 -1.69372949 -0.48644485 -0.31085189]\n",
      " [-1.45359497 -2.10632068 -0.55736757 -0.28406453]\n",
      " ...\n",
      " [-1.22014071 -1.44617477  1.31241327 -0.3098033 ]\n",
      " [-1.2251433  -1.37190836  0.7450315  -0.31001011]\n",
      " [-1.35354314 -1.61121125  0.28081005 -0.31055051]]\n"
     ]
    }
   ],
   "source": [
    "# standazing the data\n",
    "scaler = StandardScaler()\n",
    "standardized_data = scaler.fit_transform(df)\n",
    "print(standardized_data)"
   ]
  },
  {
   "cell_type": "code",
   "execution_count": 13,
   "metadata": {},
   "outputs": [
    {
     "name": "stdout",
     "output_type": "stream",
     "text": [
      "        Length     Width  Views last 7 days  EUR_Price\n",
      "0    -1.286842 -1.363657           0.487131  -0.311011\n",
      "1    -1.286842 -1.693729          -0.486445  -0.310852\n",
      "2    -1.453595 -2.106321          -0.557368  -0.284065\n",
      "3    -1.361881 -1.726737          -0.596053  -0.310946\n",
      "4    -0.919985 -0.967569           2.086116  -0.310738\n",
      "...        ...       ...                ...        ...\n",
      "9236 -0.953336 -1.594708           0.886877  -0.309335\n",
      "9237 -0.903310 -0.918058           6.225424  -0.309387\n",
      "9238 -1.220141 -1.446175           1.312413  -0.309803\n",
      "9239 -1.225143 -1.371908           0.745031  -0.310010\n",
      "9240 -1.353543 -1.611211           0.280810  -0.310551\n",
      "\n",
      "[9241 rows x 4 columns]\n"
     ]
    }
   ],
   "source": [
    "# coverting to dataframe\n",
    "df = pd.DataFrame(standardized_data, columns=df.columns)\n",
    "print(df)"
   ]
  },
  {
   "cell_type": "markdown",
   "metadata": {},
   "source": [
    "### 3. The elbow technique"
   ]
  },
  {
   "cell_type": "code",
   "execution_count": 14,
   "metadata": {},
   "outputs": [],
   "source": [
    "num_cl = range(1, 10) # Defines the range of potential clusters in the data.\n",
    "kmeans = [KMeans(n_clusters=i) for i in num_cl] # Defines k-means clusters in the range assigned above."
   ]
  },
  {
   "cell_type": "code",
   "execution_count": 15,
   "metadata": {},
   "outputs": [
    {
     "data": {
      "text/plain": [
       "[-36963.99999999998,\n",
       " -25362.504361518444,\n",
       " -19408.43411883179,\n",
       " -14973.457910464915,\n",
       " -11897.231857580296,\n",
       " -10302.282753987449,\n",
       " -8816.899343117884,\n",
       " -7979.126321533601,\n",
       " -7263.811049135214]"
      ]
     },
     "execution_count": 15,
     "metadata": {},
     "output_type": "execute_result"
    }
   ],
   "source": [
    "score = [kmeans[i].fit(df).score(df) for i in range(len(kmeans))] # Creates a score that represents \n",
    "# a rate of variation for the given cluster option.\n",
    "\n",
    "score"
   ]
  },
  {
   "cell_type": "code",
   "execution_count": 16,
   "metadata": {},
   "outputs": [
    {
     "data": {
      "image/png": "[encoded data removed]",
      "text/plain": [
       "<Figure size 640x480 with 1 Axes>"
      ]
     },
     "metadata": {},
     "output_type": "display_data"
    }
   ],
   "source": [
    "# Plot the elbow curve using PyLab.\n",
    "\n",
    "pl.plot(num_cl,score)\n",
    "pl.xlabel('Number of Clusters')\n",
    "pl.ylabel('Score')\n",
    "pl.title('Elbow Curve')\n",
    "pl.show()"
   ]
  },
  {
   "cell_type": "markdown",
   "metadata": {},
   "source": [
    "#####  The elbow curve above shows a slight breaking point after 5, with line straigtening out.  Meaning that the optimal count for  clusters is five."
   ]
  },
  {
   "cell_type": "markdown",
   "metadata": {},
   "source": [
    "### 3. k-means clustering"
   ]
  },
  {
   "cell_type": "code",
   "execution_count": 17,
   "metadata": {},
   "outputs": [],
   "source": [
    "# Create the k-means object.\n",
    " \n",
    "kmeans = KMeans(n_clusters = 5) "
   ]
  },
  {
   "cell_type": "code",
   "execution_count": 18,
   "metadata": {},
   "outputs": [
    {
     "data": {
      "text/plain": [
       "KMeans(n_clusters=5)"
      ]
     },
     "execution_count": 18,
     "metadata": {},
     "output_type": "execute_result"
    }
   ],
   "source": [
    "# Fit the k-means object to the data.\n",
    "\n",
    "kmeans.fit(df)"
   ]
  },
  {
   "cell_type": "code",
   "execution_count": 19,
   "metadata": {},
   "outputs": [],
   "source": [
    "# Create column to view clusters\n",
    "df['clusters'] = kmeans.fit_predict(df)"
   ]
  },
  {
   "cell_type": "code",
   "execution_count": 20,
   "metadata": {},
   "outputs": [
    {
     "data": {
      "text/html": [
       "<div>\n",
       "<style scoped>\n",
       "    .dataframe tbody tr th:only-of-type {\n",
       "        vertical-align: middle;\n",
       "    }\n",
       "\n",
       "    .dataframe tbody tr th {\n",
       "        vertical-align: top;\n",
       "    }\n",
       "\n",
       "    .dataframe thead th {\n",
       "        text-align: right;\n",
       "    }\n",
       "</style>\n",
       "<table border=\"1\" class=\"dataframe\">\n",
       "  <thead>\n",
       "    <tr style=\"text-align: right;\">\n",
       "      <th></th>\n",
       "      <th>Length</th>\n",
       "      <th>Width</th>\n",
       "      <th>Views last 7 days</th>\n",
       "      <th>EUR_Price</th>\n",
       "      <th>clusters</th>\n",
       "    </tr>\n",
       "  </thead>\n",
       "  <tbody>\n",
       "    <tr>\n",
       "      <th>0</th>\n",
       "      <td>-1.286842</td>\n",
       "      <td>-1.363657</td>\n",
       "      <td>0.487131</td>\n",
       "      <td>-0.311011</td>\n",
       "      <td>0</td>\n",
       "    </tr>\n",
       "    <tr>\n",
       "      <th>1</th>\n",
       "      <td>-1.286842</td>\n",
       "      <td>-1.693729</td>\n",
       "      <td>-0.486445</td>\n",
       "      <td>-0.310852</td>\n",
       "      <td>0</td>\n",
       "    </tr>\n",
       "    <tr>\n",
       "      <th>2</th>\n",
       "      <td>-1.453595</td>\n",
       "      <td>-2.106321</td>\n",
       "      <td>-0.557368</td>\n",
       "      <td>-0.284065</td>\n",
       "      <td>0</td>\n",
       "    </tr>\n",
       "    <tr>\n",
       "      <th>3</th>\n",
       "      <td>-1.361881</td>\n",
       "      <td>-1.726737</td>\n",
       "      <td>-0.596053</td>\n",
       "      <td>-0.310946</td>\n",
       "      <td>0</td>\n",
       "    </tr>\n",
       "    <tr>\n",
       "      <th>4</th>\n",
       "      <td>-0.919985</td>\n",
       "      <td>-0.967569</td>\n",
       "      <td>2.086116</td>\n",
       "      <td>-0.310738</td>\n",
       "      <td>3</td>\n",
       "    </tr>\n",
       "  </tbody>\n",
       "</table>\n",
       "</div>"
      ],
      "text/plain": [
       "     Length     Width  Views last 7 days  EUR_Price  clusters\n",
       "0 -1.286842 -1.363657           0.487131  -0.311011         0\n",
       "1 -1.286842 -1.693729          -0.486445  -0.310852         0\n",
       "2 -1.453595 -2.106321          -0.557368  -0.284065         0\n",
       "3 -1.361881 -1.726737          -0.596053  -0.310946         0\n",
       "4 -0.919985 -0.967569           2.086116  -0.310738         3"
      ]
     },
     "execution_count": 20,
     "metadata": {},
     "output_type": "execute_result"
    }
   ],
   "source": [
    "df.head()"
   ]
  },
  {
   "cell_type": "code",
   "execution_count": 21,
   "metadata": {
    "scrolled": false
   },
   "outputs": [
    {
     "data": {
      "text/plain": [
       "0    4444\n",
       "1    3511\n",
       "4     845\n",
       "3     401\n",
       "2      40\n",
       "Name: clusters, dtype: int64"
      ]
     },
     "execution_count": 21,
     "metadata": {},
     "output_type": "execute_result"
    }
   ],
   "source": [
    "# Check how many observations fall into each cluster\n",
    "df['clusters'].value_counts()"
   ]
  },
  {
   "cell_type": "code",
   "execution_count": 26,
   "metadata": {
    "scrolled": false
   },
   "outputs": [
    {
     "data": {
      "image/png": "[encoded data removed]",
      "text/plain": [
       "<Figure size 1200x800 with 1 Axes>"
      ]
     },
     "metadata": {},
     "output_type": "display_data"
    }
   ],
   "source": [
    "# Plot the clusters for EUR_Price and Length variables.\n",
    "\n",
    "plt.figure(figsize=(12,8))\n",
    "ax = sns.scatterplot(x=df['Length'], y=df['EUR_Price'], hue=kmeans.labels_, s=100) \n",
    "# Here, you're subsetting `X` for the x and y arguments to avoid using their labels. \n",
    "# `hue` takes the value of the attribute `kmeans.labels_`, which is the result of running the k-means algorithm.\n",
    "# `s` represents the size of the points you want to see in the plot.\n",
    "\n",
    "ax.grid(False) # This removes the grid from the background.\n",
    "plt.xlabel('Length of the boat') # Label x-axis.\n",
    "plt.ylabel('EUR Price') # Label y-axis.\n",
    "plt.show()\n",
    "ax.figure.savefig(\"ClusterEURPriceLength\")"
   ]
  },
  {
   "cell_type": "code",
   "execution_count": 27,
   "metadata": {},
   "outputs": [
    {
     "data": {
      "text/plain": [
       "'C:\\\\Users\\\\dolson\\\\OneDrive - BEACON TECHNOLOGIES\\\\Desktop\\\\Achievement6\\\\03 Scripts'"
      ]
     },
     "execution_count": 27,
     "metadata": {},
     "output_type": "execute_result"
    }
   ],
   "source": [
    "# What is current directory saving to\n",
    "cwd = os.getcwd()\n",
    "cwd"
   ]
  },
  {
   "cell_type": "code",
   "execution_count": null,
   "metadata": {},
   "outputs": [],
   "source": [
    "# Plot the clusters for the \"Views last 7 days\" and \"EUR_Price variables.\n",
    "\n",
    "plt.figure(figsize=(12,8))\n",
    "ax1 = sns.scatterplot(x=df['Views last 7 days'], y=df['EUR_Price'], hue=kmeans.labels_, s=100)\n",
    "\n",
    "ax1.grid(False) \n",
    "plt2.xlabel('Views last 7 days') \n",
    "plt2.ylabel('EUR Price') \n",
    "plt2.show()\n",
    "ax.figure.savefig(\"ClusterEURPrice\")"
   ]
  },
  {
   "cell_type": "markdown",
   "metadata": {},
   "source": [
    "Both graphs are not clear indicators of any correlation between boat cost, number of views and length of boat. Other variables would need to be taken into consideration when determinining the value of the boat (age, type, etc.)"
   ]
  },
  {
   "cell_type": "code",
   "execution_count": 35,
   "metadata": {},
   "outputs": [],
   "source": [
    "df.loc[df['clusters'] == 4, 'cluster'] = 'black'\n",
    "df.loc[df['clusters'] == 3, 'cluster'] = 'dark purple'\n",
    "df.loc[df['clusters'] == 2, 'cluster'] = 'purple'\n",
    "df.loc[df['clusters'] == 1, 'cluster'] = 'pink'\n",
    "df.loc[df['clusters'] == 0, 'cluster'] = 'light pink'"
   ]
  },
  {
   "cell_type": "code",
   "execution_count": 36,
   "metadata": {},
   "outputs": [
    {
     "data": {
      "text/html": [
       "<div>\n",
       "<style scoped>\n",
       "    .dataframe tbody tr th:only-of-type {\n",
       "        vertical-align: middle;\n",
       "    }\n",
       "\n",
       "    .dataframe tbody tr th {\n",
       "        vertical-align: top;\n",
       "    }\n",
       "\n",
       "    .dataframe thead tr th {\n",
       "        text-align: left;\n",
       "    }\n",
       "\n",
       "    .dataframe thead tr:last-of-type th {\n",
       "        text-align: right;\n",
       "    }\n",
       "</style>\n",
       "<table border=\"1\" class=\"dataframe\">\n",
       "  <thead>\n",
       "    <tr>\n",
       "      <th></th>\n",
       "      <th colspan=\"2\" halign=\"left\">Length</th>\n",
       "      <th colspan=\"2\" halign=\"left\">Width</th>\n",
       "      <th colspan=\"2\" halign=\"left\">Views last 7 days</th>\n",
       "      <th colspan=\"2\" halign=\"left\">EUR_Price</th>\n",
       "    </tr>\n",
       "    <tr>\n",
       "      <th></th>\n",
       "      <th>mean</th>\n",
       "      <th>median</th>\n",
       "      <th>mean</th>\n",
       "      <th>median</th>\n",
       "      <th>mean</th>\n",
       "      <th>median</th>\n",
       "      <th>mean</th>\n",
       "      <th>median</th>\n",
       "    </tr>\n",
       "    <tr>\n",
       "      <th>cluster</th>\n",
       "      <th></th>\n",
       "      <th></th>\n",
       "      <th></th>\n",
       "      <th></th>\n",
       "      <th></th>\n",
       "      <th></th>\n",
       "      <th></th>\n",
       "      <th></th>\n",
       "    </tr>\n",
       "  </thead>\n",
       "  <tbody>\n",
       "    <tr>\n",
       "      <th>black</th>\n",
       "      <td>2.075140</td>\n",
       "      <td>1.828105</td>\n",
       "      <td>1.906595</td>\n",
       "      <td>1.689518</td>\n",
       "      <td>-0.288655</td>\n",
       "      <td>-0.415522</td>\n",
       "      <td>0.980122</td>\n",
       "      <td>0.584461</td>\n",
       "    </tr>\n",
       "    <tr>\n",
       "      <th>dark purple</th>\n",
       "      <td>-0.545606</td>\n",
       "      <td>-0.669856</td>\n",
       "      <td>-0.597451</td>\n",
       "      <td>-0.794281</td>\n",
       "      <td>3.400863</td>\n",
       "      <td>2.730868</td>\n",
       "      <td>-0.225894</td>\n",
       "      <td>-0.275196</td>\n",
       "    </tr>\n",
       "    <tr>\n",
       "      <th>light pink</th>\n",
       "      <td>-0.653178</td>\n",
       "      <td>-0.669856</td>\n",
       "      <td>-0.736600</td>\n",
       "      <td>-0.794281</td>\n",
       "      <td>-0.022651</td>\n",
       "      <td>-0.157621</td>\n",
       "      <td>-0.237997</td>\n",
       "      <td>-0.263556</td>\n",
       "    </tr>\n",
       "    <tr>\n",
       "      <th>pink</th>\n",
       "      <td>0.341985</td>\n",
       "      <td>0.288974</td>\n",
       "      <td>0.502417</td>\n",
       "      <td>0.501256</td>\n",
       "      <td>-0.295482</td>\n",
       "      <td>-0.396180</td>\n",
       "      <td>-0.038735</td>\n",
       "      <td>-0.118063</td>\n",
       "    </tr>\n",
       "    <tr>\n",
       "      <th>purple</th>\n",
       "      <td>4.182699</td>\n",
       "      <td>4.174320</td>\n",
       "      <td>3.449220</td>\n",
       "      <td>3.273868</td>\n",
       "      <td>0.456666</td>\n",
       "      <td>0.064818</td>\n",
       "      <td>11.400927</td>\n",
       "      <td>9.288064</td>\n",
       "    </tr>\n",
       "  </tbody>\n",
       "</table>\n",
       "</div>"
      ],
      "text/plain": [
       "               Length               Width           Views last 7 days  \\\n",
       "                 mean    median      mean    median              mean   \n",
       "cluster                                                                 \n",
       "black        2.075140  1.828105  1.906595  1.689518         -0.288655   \n",
       "dark purple -0.545606 -0.669856 -0.597451 -0.794281          3.400863   \n",
       "light pink  -0.653178 -0.669856 -0.736600 -0.794281         -0.022651   \n",
       "pink         0.341985  0.288974  0.502417  0.501256         -0.295482   \n",
       "purple       4.182699  4.174320  3.449220  3.273868          0.456666   \n",
       "\n",
       "                       EUR_Price            \n",
       "               median       mean    median  \n",
       "cluster                                     \n",
       "black       -0.415522   0.980122  0.584461  \n",
       "dark purple  2.730868  -0.225894 -0.275196  \n",
       "light pink  -0.157621  -0.237997 -0.263556  \n",
       "pink        -0.396180  -0.038735 -0.118063  \n",
       "purple       0.064818  11.400927  9.288064  "
      ]
     },
     "execution_count": 36,
     "metadata": {},
     "output_type": "execute_result"
    }
   ],
   "source": [
    "df.groupby('cluster').agg({'Length':['mean', 'median'], \n",
    "                         'Width':['mean', 'median'], \n",
    "                         'Views last 7 days':['mean', 'median'],\n",
    "                          'EUR_Price':['mean', 'median']})"
   ]
  },
  {
   "cell_type": "markdown",
   "metadata": {},
   "source": [
    "In review of the relationships between coloumns there does not appear to be any strong relationships. The black cluster of variables(Length, Width,Views last 7 days, EUR_Price) has the highest mean/medium suggesting a positive correlation with these variables and EUR price. "
   ]
  },
  {
   "cell_type": "code",
   "execution_count": 37,
   "metadata": {},
   "outputs": [],
   "source": [
    "# Export the cluster df to prepared data folder \n",
    "df.to_csv(os.path.join(path, '02 Data','Prepared Data', 'clusterdf.csv'))"
   ]
  },
  {
   "cell_type": "code",
   "execution_count": null,
   "metadata": {},
   "outputs": [],
   "source": []
  }
 ],
 "metadata": {
  "kernelspec": {
   "display_name": "Python 3 (ipykernel)",
   "language": "python",
   "name": "python3"
  },
  "language_info": {
   "codemirror_mode": {
    "name": "ipython",
    "version": 3
   },
   "file_extension": ".py",
   "mimetype": "text/x-python",
   "name": "python",
   "nbconvert_exporter": "python",
   "pygments_lexer": "ipython3",
   "version": "3.9.13"
  }
 },
 "nbformat": 4,
 "nbformat_minor": 4
}
